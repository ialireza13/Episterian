{
 "cells": [
  {
   "cell_type": "code",
   "execution_count": 70,
   "metadata": {},
   "outputs": [],
   "source": [
    "import numpy as np\n",
    "import seaborn as sns\n",
    "from tqdm import tqdm\n",
    "import matplotlib.pyplot as plt"
   ]
  },
  {
   "cell_type": "code",
   "execution_count": 76,
   "metadata": {},
   "outputs": [],
   "source": [
    "N = 100  # number of individuals\n",
    "L = 100  # box size\n",
    "ens = 1  # number of realizations\n",
    "d = 1.5  # effective distance for virus\n",
    "d2 = d*d"
   ]
  },
  {
   "cell_type": "code",
   "execution_count": 77,
   "metadata": {},
   "outputs": [],
   "source": [
    "avdeg = (N-1)*np.pi*d2/(L**2)\n",
    "probs = np.zeros(N, dtype='float16')"
   ]
  },
  {
   "cell_type": "code",
   "execution_count": 78,
   "metadata": {},
   "outputs": [],
   "source": [
    "gamma = 1.0/18.0\n",
    "R0 = 2.6\n",
    "sigma = 1.0/5.0\n",
    "beta = R0*gamma\n",
    "probs[0] = 0\n",
    "for i in range(1,N):\n",
    "    probs[i]=sigma"
   ]
  },
  {
   "cell_type": "code",
   "execution_count": 79,
   "metadata": {},
   "outputs": [],
   "source": [
    "A0 = 2   # number of initial infecteds\n",
    "v = 3."
   ]
  },
  {
   "cell_type": "code",
   "execution_count": 80,
   "metadata": {},
   "outputs": [],
   "source": [
    "# for run in tqdm(ens):\n",
    "A = np.zeros(N, dtype='uint8')       # A:infected\n",
    "a = np.zeros(N, dtype='uint8')       # a: recovered\n",
    "s = np.ones(N, dtype='uint8')      # s:susceptible\n",
    "up = np.zeros(N, dtype='uint8')\n",
    "# useful lists:\n",
    "inf = np.zeros(N, dtype='uint8')\n",
    "sus = np.zeros(N, dtype='uint8')\n",
    "c = np.zeros(N, dtype='uint8')\n",
    "U = np.zeros(N, dtype='uint8')\n",
    "\n",
    "rc = np.random.choice(N, A0, replace=False)\n",
    "A[rc] = 1\n",
    "s[rc] = 0\n",
    "numinf = [np.sum(A)]\n",
    "numsus = [np.sum(s)]\n",
    "r = np.random.random((N,2))*L\n",
    "psi = np.random.random()*2.*np.pi\n",
    "vv = np.random.random((N,2))*v\n",
    "for i in range(numinf[-1]):\n",
    "    inf[numinf[-1]] = i\n",
    "    numinf[-1] += A[i]\n",
    "    sus[numsus[-1]]\n",
    "    numsus[-1] += s[i]\n",
    "\n",
    "t=0\n",
    "while(numinf[-1] != 0):   # let the system evolve till it doesn't!\n",
    "    t+=1\n",
    "    numinf.append(numinf[-1])\n",
    "    numsus.append(numinf[-1])\n",
    "    for i in range(numinf[-1]):\n",
    "        for j in range(numsus[-1]):\n",
    "            dx = np.abs(r[inf[i]][0]-r[sus[j]][0])\n",
    "            dx = np.min([dx, L-dx])\n",
    "            dy = np.abs(r[inf[i]][1]-r[sus[j]][1])\n",
    "            dy = np.min([dy, L-dy])\n",
    "            dist = dx**2 + dy**2\n",
    "            c[sus[j]] += (d2<=dist)*(np.random.rand()<=beta)\n",
    "    numU = 0\n",
    "    for i in range(numsus[-1]): # list of exposeds\n",
    "        U[numU] = sus[i]\n",
    "        numU += (c[sus[i]]>0)\n",
    "    for i in range(numU): # infection of exposed\n",
    "        j = U[i]\n",
    "        up[j] = (np.random.rand()<=probs[c[j]])\n",
    "        A[j] = up[j]\n",
    "        s[j] = not up[j]\n",
    "        c[j] = 0\n",
    "        up[j] = 0\n",
    "    for i in range(numinf[-1]): # recovery\n",
    "        j = inf[i]\n",
    "        a[j] = (np.random.rand()<gamma)\n",
    "        A[j] = 1-a[j]\n",
    "    numinf[-1]=0\n",
    "    numsus[-1]=0\n",
    "    for i in range(N):\n",
    "        inf[numinf[-1]] = i\n",
    "        numinf[-1] += A[i]\n",
    "        sus[numsus[-1]] = i\n",
    "        numsus[-1] += s[i]\n",
    "    r[:,0] += vv[:,0] + L\n",
    "    r[:,0] = r[:,0] - 1.*L*np.floor(1.*r[:,0]/L)\n",
    "    r[:,1] += vv[:,1] + L\n",
    "    r[:,1] = r[:,1] - 1.*L*np.floor(1.*r[:,1]/L)\n",
    "# absorbign state has been reached\n",
    "Sum_inf = np.sum(a)\n",
    "rho = 1.*Sum_inf/N"
   ]
  },
  {
   "cell_type": "code",
   "execution_count": 81,
   "metadata": {},
   "outputs": [],
   "source": [
    "numinf = [1.*p/N for p in numinf]\n",
    "numsus = [1.*p/N for p in numsus]\n",
    "numrec = []\n",
    "for i in range(len(numinf)):\n",
    "    numrec.append(1-numinf[i]-numsus[i])\n",
    "    \n",
    "tt = np.arange(t+1)"
   ]
  },
  {
   "cell_type": "code",
   "execution_count": 82,
   "metadata": {},
   "outputs": [
    {
     "data": {
      "text/plain": [
       "<matplotlib.legend.Legend at 0x2678580dc40>"
      ]
     },
     "execution_count": 82,
     "metadata": {},
     "output_type": "execute_result"
    },
    {
     "data": {
      "image/png": "[encoded data removed]",
      "text/plain": [
       "<Figure size 576x432 with 1 Axes>"
      ]
     },
     "metadata": {
      "needs_background": "light"
     },
     "output_type": "display_data"
    }
   ],
   "source": [
    "fig, ax = plt.subplots(figsize = (8,6))\n",
    "ax.plot(tt,numinf,label='inf')\n",
    "ax.plot(tt,numsus,label='sus')\n",
    "ax.plot(tt,numrec,label='rec')\n",
    "ax.set_ylim(0,1)\n",
    "ax.legend()"
   ]
  },
  {
   "cell_type": "code",
   "execution_count": 57,
   "metadata": {},
   "outputs": [
    {
     "data": {
      "text/plain": [
       "62"
      ]
     },
     "execution_count": 57,
     "metadata": {},
     "output_type": "execute_result"
    }
   ],
   "source": []
  },
  {
   "cell_type": "code",
   "execution_count": null,
   "metadata": {},
   "outputs": [],
   "source": []
  }
 ],
 "metadata": {
  "kernelspec": {
   "display_name": "Python 3",
   "language": "python",
   "name": "python3"
  },
  "language_info": {
   "codemirror_mode": {
    "name": "ipython",
    "version": 3
   },
   "file_extension": ".py",
   "mimetype": "text/x-python",
   "name": "python",
   "nbconvert_exporter": "python",
   "pygments_lexer": "ipython3",
   "version": "3.8.2"
  }
 },
 "nbformat": 4,
 "nbformat_minor": 4
}
