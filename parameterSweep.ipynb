{
 "cells": [
  {
   "cell_type": "code",
   "execution_count": 11,
   "metadata": {},
   "outputs": [],
   "source": [
    "import numpy as np\n",
    "import matplotlib.pylab as plt\n",
    "from mpl_toolkits.mplot3d import Axes3D\n",
    "import seaborn as sns\n",
    "import time\n",
    "from simulate import simulate\n",
    "import multiprocessing as mp\n",
    "from decimal import *"
   ]
  },
  {
   "cell_type": "markdown",
   "metadata": {},
   "source": [
    "### Define jobs to run"
   ]
  },
  {
   "cell_type": "code",
   "execution_count": 12,
   "metadata": {},
   "outputs": [],
   "source": [
    "infection_rate = (0.0,1.0,4)\n",
    "tile_rate = (0.0,1.0,4)\n",
    "inf_rate_size = infection_rate[2]\n",
    "tile_rate_size = tile_rate[2]\n",
    "inf = np.linspace(infection_rate[0], infection_rate[1], infection_rate[2])\n",
    "tile_inf = np.linspace(tile_rate[0], tile_rate[1], tile_rate[2])"
   ]
  },
  {
   "cell_type": "code",
   "execution_count": 13,
   "metadata": {},
   "outputs": [],
   "source": [
    "Lx = 30\n",
    "Ly = 30\n",
    "stepSize = 0.5\n",
    "N = 100\n",
    "N_ill = 1\n",
    "flow = 0\n",
    "realisations = 10\n",
    "tMax = 1000"
   ]
  },
  {
   "cell_type": "code",
   "execution_count": 14,
   "metadata": {},
   "outputs": [],
   "source": [
    "per = np.zeros(shape=(inf_rate_size, tile_rate_size), dtype=float)\n",
    "env = np.zeros(shape=(inf_rate_size, tile_rate_size), dtype=float)"
   ]
  },
  {
   "cell_type": "code",
   "execution_count": 15,
   "metadata": {},
   "outputs": [
    {
     "name": "stdout",
     "output_type": "stream",
     "text": [
      "16\n"
     ]
    }
   ],
   "source": [
    "total_jobs = inf_rate_size * tile_rate_size\n",
    "last_inf = infection_rate[0]\n",
    "last_tile = tile_rate[0]\n",
    "last_row = 0\n",
    "last_col = 0\n",
    "print(total_jobs)"
   ]
  },
  {
   "cell_type": "code",
   "execution_count": 16,
   "metadata": {},
   "outputs": [],
   "source": [
    "# %%time\n",
    "if __name__ ==  '__main__': \n",
    "    for t in range(total_jobs):\n",
    "        curr_row = int(t/(tile_rate_size))\n",
    "        curr_col = t-int(t/(tile_rate_size))*(tile_rate_size)\n",
    "        job = tuple([N, N_ill, Lx, Ly, stepSize, inf[curr_row], tile_inf[curr_col], tile_inf[curr_col], flow, tMax])\n",
    "        works = [job for i in range(realisations)]\n",
    "        with mp.Pool(mp.cpu_count()) as pool:\n",
    "            p_r = pool.map_async(simulate, works)\n",
    "            res = p_r.get()\n",
    "        for i in range(len(res)):\n",
    "            res[i] = (res[i]['from_per'].cumsum(), res[i]['from_env'].cumsum())\n",
    "        ts = np.mean(res, axis=0)\n",
    "        from_per = ts[0][-1]/job[0]\n",
    "        from_env = ts[1][-1]/job[0]\n",
    "        per[curr_row][curr_col] = from_per\n",
    "        env[curr_row][curr_col] = from_env"
   ]
  },
  {
   "cell_type": "code",
   "execution_count": 10,
   "metadata": {},
   "outputs": [],
   "source": [
    "np.save('from_per', per)\n",
    "np.save('from_env', env)"
   ]
  },
  {
   "cell_type": "markdown",
   "metadata": {},
   "source": [
    "### Plot results"
   ]
  },
  {
   "cell_type": "code",
   "execution_count": 18,
   "metadata": {},
   "outputs": [
    {
     "data": {
      "image/png": "[encoded data removed]",
      "text/plain": [
       "<Figure size 1008x432 with 4 Axes>"
      ]
     },
     "metadata": {
      "needs_background": "light"
     },
     "output_type": "display_data"
    }
   ],
   "source": [
    "fig, ax = plt.subplots(1,2,figsize=(14, 6))\n",
    "sns.heatmap(per+env, xticklabels=np.flip(np.around(inf, decimals=2)), yticklabels=np.flip(np.around(tile_inf, decimals=2)), cmap='hot',ax=ax[0])\n",
    "sns.heatmap(env, xticklabels=np.flip(np.around(inf, decimals=2)), yticklabels=np.flip(np.around(tile_inf, decimals=2)), cmap='hot',ax=ax[1])\n",
    "ax[0].set_xlabel(\"p2p infection rate\")\n",
    "ax[0].set_ylabel(\"Tile infection rate\")\n",
    "ax[0].set_title(\"from per\")\n",
    "ax[1].set_xlabel(\"p2p infection rate\")\n",
    "ax[1].set_ylabel(\"Tile infection rate\")\n",
    "ax[1].set_title(\"from env\")\n",
    "plt.show()"
   ]
  },
  {
   "cell_type": "code",
   "execution_count": null,
   "metadata": {},
   "outputs": [],
   "source": []
  }
 ],
 "metadata": {
  "kernelspec": {
   "display_name": "Python 3",
   "language": "python",
   "name": "python3"
  },
  "language_info": {
   "codemirror_mode": {
    "name": "ipython",
    "version": 3
   },
   "file_extension": ".py",
   "mimetype": "text/x-python",
   "name": "python",
   "nbconvert_exporter": "python",
   "pygments_lexer": "ipython3",
   "version": "3.8.2"
  }
 },
 "nbformat": 4,
 "nbformat_minor": 4
}
