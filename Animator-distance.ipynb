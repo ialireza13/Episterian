{
 "cells": [
  {
   "cell_type": "code",
   "execution_count": null,
   "metadata": {},
   "outputs": [],
   "source": [
    "import numpy as np\n",
    "import matplotlib.pyplot as plt\n",
    "import matplotlib.animation as animation\n",
    "import time\n",
    "from matplotlib import gridspec\n",
    "#from simulate import simulate\n",
    "from simulate_distance import simulate\n",
    "import matplotlib.patches as mpatches\n",
    "from matplotlib.lines import Line2D\n",
    "from matplotlib.patches import Patch\n",
    "import matplotlib\n",
    "import matplotlib.cm as cm"
   ]
  },
  {
   "cell_type": "code",
   "execution_count": null,
   "metadata": {},
   "outputs": [],
   "source": [
    "N = 100\n",
    "N_ill = 1\n",
    "Lx = Ly = 30\n",
    "stepSize = 0.5\n",
    "infection_rate = 0.01\n",
    "tile_infection_rate = pollution_rate = 0.005\n",
    "flow_rate = 0\n",
    "tMax = 400\n",
    "shuffled_pollution_activate = False\n",
    "animatable_output = True\n",
    "centralized_infectious = False\n",
    "state_after_infection = 1 #1 for SEI, 2 for SI\n",
    "opening_duration = 0 #flash_forward every ...\n",
    "sigma_1 = sigma_2 = 0.3\n",
    "n_sigma_2 = 0"
   ]
  },
  {
   "cell_type": "code",
   "execution_count": null,
   "metadata": {},
   "outputs": [],
   "source": [
    "# args = N, N_ill, Lx, Ly, stepSize, infection_rate, pollution_rate\\\n",
    "#         , tile_infection_rate, flow_rate, tMax,\\\n",
    "#         shuffled_pollution_activate, animatable_output,\\\n",
    "#         centralized_infectious, state_after_infection,\\\n",
    "#         opening_duration"
   ]
  },
  {
   "cell_type": "code",
   "execution_count": null,
   "metadata": {},
   "outputs": [],
   "source": [
    "args = N, N_ill, Lx, Ly, stepSize, infection_rate, pollution_rate\\\n",
    ", tile_infection_rate, flow_rate, tMax,\\\n",
    "shuffled_pollution_activate, animatable_output,\\\n",
    "centralized_infectious, state_after_infection,\\\n",
    "opening_duration, sigma_1, sigma_2, n_sigma_2\n"
   ]
  },
  {
   "cell_type": "code",
   "execution_count": null,
   "metadata": {},
   "outputs": [],
   "source": [
    "sigma_range = np.arange( 0.3, 2, 0.1 )\n",
    "mean_min_dist = np.zeros((len(sigma_range)))\n",
    "std_min_dist = np.zeros((len(sigma_range)))\n",
    "for sigma_ind ,sigma_1 in enumerate(sigma_range):\n",
    "    args = N, N_ill, Lx, Ly, stepSize, infection_rate, pollution_rate\\\n",
    "    , tile_infection_rate, flow_rate, tMax,\\\n",
    "    shuffled_pollution_activate, animatable_output,\\\n",
    "    centralized_infectious, state_after_infection,\\\n",
    "    opening_duration, sigma_1, sigma_2, n_sigma_2\n",
    "    print(sigma_1)\n",
    "    timeline, min_dists = simulate(args = (np.random.randint(10000),)+args)\n",
    "    \n",
    "    mean_min_dist[sigma_ind] = min_dists.mean()\n",
    "    std_min_dist[sigma_ind] = min_dists.mean()\n",
    "    #print('hi')\n",
    "    "
   ]
  },
  {
   "cell_type": "code",
   "execution_count": null,
   "metadata": {},
   "outputs": [],
   "source": [
    "matplotlib.rcParams.update({'font.size': 13})\n",
    "\n",
    "fig, ax = plt.subplots()\n",
    "ax.plot(sigma_range, mean_min_dist, '--o')\n",
    "err = sigma_range / np.sqrt(tMax)\n",
    "ax.fill_between(sigma_range, mean_min_dist + err/2, mean_min_dist - err/2, alpha = 0.5)\n",
    "ax.set_xlabel('$\\sigma$')\n",
    "ax.set_ylabel('$\\overline{ L}_{<ij>} $')\n",
    "fig.savefig('distance-vs-sigma.png', dpi = 500, bbox_inches='tight')\n",
    "\n",
    "\n",
    "distance_vs_sigma_data = np.zeros( ( len( sigma_range ) ), dtype=[ ('mean_min_dist', float)\\\n",
    "                                              , ('std_min_dist', float)\\\n",
    "                           ,('sigma_range', float)] )\n",
    "distance_vs_sigma_data['mean_min_dist'] = mean_min_dist\n",
    "distance_vs_sigma_data['std_min_dist'] = std_min_dist\n",
    "distance_vs_sigma_data['sigma_range'] = sigma_range\n",
    "\n",
    "np.save('Results/distance-vs-sigma-data', distance_vs_sigma_data)\n",
    "#np.save('Results/from_env', std_min_dist)\n"
   ]
  }
 ],
 "metadata": {
  "kernelspec": {
   "display_name": "Python 3",
   "language": "python",
   "name": "python3"
  },
  "language_info": {
   "codemirror_mode": {
    "name": "ipython",
    "version": 3
   },
   "file_extension": ".py",
   "mimetype": "text/x-python",
   "name": "python",
   "nbconvert_exporter": "python",
   "pygments_lexer": "ipython3",
   "version": "3.6.9"
  }
 },
 "nbformat": 4,
 "nbformat_minor": 2
}
