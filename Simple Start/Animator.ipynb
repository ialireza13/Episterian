{
 "cells": [
  {
   "cell_type": "code",
   "execution_count": 1,
   "metadata": {},
   "outputs": [],
   "source": [
    "import numpy as np\n",
    "import matplotlib.pyplot as plt\n",
    "import matplotlib.animation as animation\n",
    "import time\n",
    "from matplotlib import gridspec\n",
    "from simulate import simulate\n",
    "# from simulate_distance import simulate\n",
    "import matplotlib.patches as mpatches\n",
    "from matplotlib.lines import Line2D\n",
    "from matplotlib.patches import Patch\n",
    "import matplotlib\n",
    "import matplotlib.cm as cm\n",
    "\n",
    "import pandas as pd"
   ]
  },
  {
   "cell_type": "markdown",
   "metadata": {},
   "source": [
    "# Parameters"
   ]
  },
  {
   "cell_type": "code",
   "execution_count": 2,
   "metadata": {},
   "outputs": [],
   "source": [
    "N = 100                                          # number of agents\n",
    "N_ill = 1                                        # number of initial infectious agents\n",
    "Lx = Ly = 30                                     # space dimensions\n",
    "stepSize = 0.5                                   # mobility time-step size, default = 0.5\n",
    "infection_rate = 1                            # direct (person to person) infection rate\n",
    "tile_infection_rate = pollution_rate = 1         # indirect (person to environment and environment to person) infection rate\n",
    "\n",
    "flow_rate = 0                                    # introduction and removal of agents, defunct. default: 0\n",
    "shuffled_pollution_activate = False              # shuffling pollution, just for tests\n",
    "animatable_output = True                         # with True, returns timeline of all the movements, usuable for animations\n",
    "                                                 # set to True to check the simulation, set to False for higher performance\n",
    "centralized_infectious = False                   # infection starting from the center of the space, for tests\n",
    "state_after_infection = 1 #1 for SEI, 2 for SI   # if 1, the infection would be SEI, if 2, SI. For the paper: 1\n",
    "opening_duration = 0 #flash_forward every ...    # the amount of initial walk, without infection, for test, default: 0\n",
    "sigma_1 = 0.3                                 # social distancing intensity for regular agents\n",
    "n_sigma_2 = 0                                    # proportion of agents grom group 2\n",
    "sigma_2 = 0                                      # social distancing intensity for group 2\n",
    "\n",
    "\n",
    "algorithm = 'euler'                              # updating algorithm, options: 'velocity_verlet', 'runge_kutta', 'euler'\n",
    "dt_ratio = 1                                     # ratio between mobility and spreading update time-step sizes\n",
    "\n",
    "tMax = 800                                     # number of simulation steps"
   ]
  },
  {
   "cell_type": "code",
   "execution_count": 3,
   "metadata": {},
   "outputs": [],
   "source": [
    "args = N, N_ill, Lx, Ly, stepSize, infection_rate, pollution_rate\\\n",
    "                , tile_infection_rate, flow_rate, tMax,\\\n",
    "                shuffled_pollution_activate, animatable_output,\\\n",
    "                centralized_infectious, state_after_infection,\\\n",
    "                opening_duration, sigma_1, sigma_2, n_sigma_2, algorithm, dt_ratio"
   ]
  },
  {
   "cell_type": "markdown",
   "metadata": {},
   "source": [
    "# Simulation"
   ]
  },
  {
   "cell_type": "markdown",
   "metadata": {},
   "source": [
    "Everything is done in the function simulate. The output is the number of newly infected agents, through diffenrent means of infection (from environment and from other people.)"
   ]
  },
  {
   "cell_type": "code",
   "execution_count": 4,
   "metadata": {
    "tags": []
   },
   "outputs": [],
   "source": [
    "timeline = simulate(args = (np.random.randint(10000),)+args)"
   ]
  },
  {
   "cell_type": "code",
   "execution_count": 5,
   "metadata": {},
   "outputs": [],
   "source": [
    "timeline = pd.DataFrame(timeline)"
   ]
  },
  {
   "cell_type": "markdown",
   "metadata": {},
   "source": [
    "`timeline` stores the number of infections through different methods over time. Each entry indicates a time-step."
   ]
  },
  {
   "cell_type": "code",
   "execution_count": 6,
   "metadata": {},
   "outputs": [
    {
     "data": {
      "text/plain": [
       "Text(0.5, 0, 't')"
      ]
     },
     "execution_count": 6,
     "metadata": {},
     "output_type": "execute_result"
    },
    {
     "data": {
      "image/png": "[encoded data removed]",
      "text/plain": [
       "<Figure size 432x288 with 1 Axes>"
      ]
     },
     "metadata": {
      "needs_background": "light"
     },
     "output_type": "display_data"
    }
   ],
   "source": [
    "fig, ax = plt.subplots()\n",
    "timeline.plot(ax = ax)\n",
    "ax.set_ylabel('People infected')\n",
    "ax.set_xlabel('t')"
   ]
  },
  {
   "cell_type": "markdown",
   "metadata": {},
   "source": [
    "Using cumsum to get the `accumulated` number of infected people through different means over time."
   ]
  },
  {
   "cell_type": "code",
   "execution_count": 7,
   "metadata": {},
   "outputs": [
    {
     "data": {
      "text/plain": [
       "Text(0.5, 0, 't')"
      ]
     },
     "execution_count": 7,
     "metadata": {},
     "output_type": "execute_result"
    },
    {
     "data": {
      "image/png": "[encoded data removed]",
      "text/plain": [
       "<Figure size 432x288 with 1 Axes>"
      ]
     },
     "metadata": {
      "needs_background": "light"
     },
     "output_type": "display_data"
    }
   ],
   "source": [
    "fig, ax = plt.subplots()\n",
    "timeline.cumsum().plot(ax = ax)\n",
    "ax.set_ylabel('Accumulated People infected')\n",
    "ax.set_xlabel('t')"
   ]
  },
  {
   "cell_type": "markdown",
   "metadata": {},
   "source": [
    "# Access to more data"
   ]
  },
  {
   "cell_type": "markdown",
   "metadata": {},
   "source": [
    "## these files would be created, only if animatable_output is set to True"
   ]
  },
  {
   "cell_type": "markdown",
   "metadata": {},
   "source": [
    "`agents_history` records the `health` status, and `x`, `y` coordinates of each agent over time. Each element `agents_history[t]` is a recarray of the status of all agents at time `t`.\n",
    "\n",
    "`health = 0` indicates susceptible, `health = 1` indicates Exposed and `health = 2` indicated infectious.\n",
    "\n",
    "recarray can be easily transformed into a pandas dataframe."
   ]
  },
  {
   "cell_type": "code",
   "execution_count": 8,
   "metadata": {},
   "outputs": [],
   "source": [
    "agents_history = np.load('Results/agents_history.npy')"
   ]
  },
  {
   "cell_type": "markdown",
   "metadata": {},
   "source": [
    "`pollution_history` indicate the status of pollution over the location. 1 indicates polluted and 0 indicates clean."
   ]
  },
  {
   "cell_type": "code",
   "execution_count": 9,
   "metadata": {},
   "outputs": [],
   "source": [
    "pollution_history = np.load('Results/pollution_history.npy')     "
   ]
  },
  {
   "cell_type": "markdown",
   "metadata": {},
   "source": [
    "`destination_history` indicates the current location of the destination for each agent. Only necessary for plots and tests"
   ]
  },
  {
   "cell_type": "code",
   "execution_count": 10,
   "metadata": {},
   "outputs": [],
   "source": [
    "destination_history = np.load('Results/destination_history.npy')"
   ]
  },
  {
   "cell_type": "markdown",
   "metadata": {},
   "source": [
    "### Status of all agents at time `t`"
   ]
  },
  {
   "cell_type": "code",
   "execution_count": 11,
   "metadata": {},
   "outputs": [
    {
     "data": {
      "text/html": [
       "<div>\n",
       "<style scoped>\n",
       "    .dataframe tbody tr th:only-of-type {\n",
       "        vertical-align: middle;\n",
       "    }\n",
       "\n",
       "    .dataframe tbody tr th {\n",
       "        vertical-align: top;\n",
       "    }\n",
       "\n",
       "    .dataframe thead th {\n",
       "        text-align: right;\n",
       "    }\n",
       "</style>\n",
       "<table border=\"1\" class=\"dataframe\">\n",
       "  <thead>\n",
       "    <tr style=\"text-align: right;\">\n",
       "      <th></th>\n",
       "      <th>x</th>\n",
       "      <th>y</th>\n",
       "      <th>health</th>\n",
       "    </tr>\n",
       "  </thead>\n",
       "  <tbody>\n",
       "    <tr>\n",
       "      <th>0</th>\n",
       "      <td>13.900590</td>\n",
       "      <td>21.115938</td>\n",
       "      <td>2</td>\n",
       "    </tr>\n",
       "    <tr>\n",
       "      <th>1</th>\n",
       "      <td>6.459201</td>\n",
       "      <td>18.488004</td>\n",
       "      <td>0</td>\n",
       "    </tr>\n",
       "    <tr>\n",
       "      <th>2</th>\n",
       "      <td>15.327896</td>\n",
       "      <td>11.400902</td>\n",
       "      <td>0</td>\n",
       "    </tr>\n",
       "    <tr>\n",
       "      <th>3</th>\n",
       "      <td>21.844497</td>\n",
       "      <td>16.431460</td>\n",
       "      <td>0</td>\n",
       "    </tr>\n",
       "    <tr>\n",
       "      <th>4</th>\n",
       "      <td>18.838725</td>\n",
       "      <td>10.935091</td>\n",
       "      <td>0</td>\n",
       "    </tr>\n",
       "    <tr>\n",
       "      <th>...</th>\n",
       "      <td>...</td>\n",
       "      <td>...</td>\n",
       "      <td>...</td>\n",
       "    </tr>\n",
       "    <tr>\n",
       "      <th>95</th>\n",
       "      <td>16.408669</td>\n",
       "      <td>9.926956</td>\n",
       "      <td>0</td>\n",
       "    </tr>\n",
       "    <tr>\n",
       "      <th>96</th>\n",
       "      <td>12.006159</td>\n",
       "      <td>9.903784</td>\n",
       "      <td>0</td>\n",
       "    </tr>\n",
       "    <tr>\n",
       "      <th>97</th>\n",
       "      <td>13.550280</td>\n",
       "      <td>26.717361</td>\n",
       "      <td>0</td>\n",
       "    </tr>\n",
       "    <tr>\n",
       "      <th>98</th>\n",
       "      <td>8.345496</td>\n",
       "      <td>8.476584</td>\n",
       "      <td>0</td>\n",
       "    </tr>\n",
       "    <tr>\n",
       "      <th>99</th>\n",
       "      <td>20.522283</td>\n",
       "      <td>20.846741</td>\n",
       "      <td>0</td>\n",
       "    </tr>\n",
       "  </tbody>\n",
       "</table>\n",
       "<p>100 rows × 3 columns</p>\n",
       "</div>"
      ],
      "text/plain": [
       "            x          y  health\n",
       "0   13.900590  21.115938       2\n",
       "1    6.459201  18.488004       0\n",
       "2   15.327896  11.400902       0\n",
       "3   21.844497  16.431460       0\n",
       "4   18.838725  10.935091       0\n",
       "..        ...        ...     ...\n",
       "95  16.408669   9.926956       0\n",
       "96  12.006159   9.903784       0\n",
       "97  13.550280  26.717361       0\n",
       "98   8.345496   8.476584       0\n",
       "99  20.522283  20.846741       0\n",
       "\n",
       "[100 rows x 3 columns]"
      ]
     },
     "execution_count": 11,
     "metadata": {},
     "output_type": "execute_result"
    }
   ],
   "source": [
    "t = 10\n",
    "pd.DataFrame( agents_history[t] )"
   ]
  },
  {
   "cell_type": "markdown",
   "metadata": {},
   "source": [
    "# Simple plot"
   ]
  },
  {
   "cell_type": "markdown",
   "metadata": {},
   "source": [
    "`x` and `y` reflect location and color indicates health status."
   ]
  },
  {
   "cell_type": "code",
   "execution_count": 17,
   "metadata": {},
   "outputs": [
    {
     "data": {
      "text/plain": [
       "<matplotlib.collections.PathCollection at 0x7f691fe207f0>"
      ]
     },
     "execution_count": 17,
     "metadata": {},
     "output_type": "execute_result"
    },
    {
     "data": {
      "image/png": "[encoded data removed]",
      "text/plain": [
       "<Figure size 432x288 with 1 Axes>"
      ]
     },
     "metadata": {
      "needs_background": "light"
     },
     "output_type": "display_data"
    }
   ],
   "source": [
    "fig, ax = plt.subplots()\n",
    "agents_status = pd.DataFrame( agents_history[100] )\n",
    "ax.scatter( x = agents_status['x'], y = agents_status['y'], c = agents_status['health'] )"
   ]
  },
  {
   "cell_type": "markdown",
   "metadata": {},
   "source": [
    "# Fancier illustration"
   ]
  },
  {
   "cell_type": "code",
   "execution_count": 18,
   "metadata": {},
   "outputs": [
    {
     "data": {
      "image/png": "[encoded data removed]",
      "text/plain": [
       "<Figure size 450x360 with 2 Axes>"
      ]
     },
     "metadata": {
      "needs_background": "light"
     },
     "output_type": "display_data"
    }
   ],
   "source": [
    "figure_ratio = 0.35;\n",
    "fig = plt.figure(figsize=(5*(0.9+figure_ratio), 5 ) );\n",
    "fig.subplots_adjust(wspace = 0);\n",
    "gs = gridspec.GridSpec(1, 2, width_ratios=[1, figure_ratio]);\n",
    "ax = plt.subplot(gs[0]);\n",
    "ay = plt.subplot(gs[1]);\n",
    "\n",
    "# fig = plt.figure()\n",
    "# ax = fig.add_subplot(111)\n",
    "\n",
    "alpha = 0.7\n",
    "\n",
    "\n",
    "def animate(t, create_legend = True):\n",
    "    ax.clear()\n",
    "#     walk()\n",
    "#     update_tile()\n",
    "#     pollute()\n",
    "    pollution = pollution_history[t]\n",
    "    agents = agents_history[t]\n",
    "    \n",
    "#     if tile_infection_rate:\n",
    "#         vmax = tile_infection_rate\n",
    "#     else:\n",
    "#         vmax = 1\n",
    "    vmax = tile_infection_rate * 2\n",
    "    ax.imshow(pollution.T, extent =[0,Lx, 0,Ly], vmin=0, vmax=vmax, origin = 'lower'\\\n",
    "             ,cmap = 'BuPu')\n",
    "#     ax.imshow(pollution.T, extent =[0,30, 0,30], origin = 'lower')\n",
    "#     plt.plot(agents['x'], agents['y'])\n",
    "    #ax.plot(agents['x'][ agents['health'] == 0 ], agents['y'][ agents['health'] == 0 ], 'o', color = 'dodgerblue', alpha = alpha, markersize=4)\n",
    "#     ax.plot(agents['x'][ agents['health'] == 2 ], agents['y'][ agents['health'] == 2 ], 'ro', alpha = alpha, markersize=4)\n",
    "    agent_size = 30\n",
    "    ax.scatter(agents['x'][ agents['health'] == 0 ], agents['y'][ agents['health'] == 0 ], s = agent_size\\\n",
    "               , marker='o', color='dodgerblue', alpha = alpha, edgecolors = 'k')\n",
    "    ax.scatter(agents['x'][ agents['health'] == 2 ], agents['y'][ agents['health'] == 2 ], s = agent_size\\\n",
    "               , marker='o', color='tab:red', alpha = alpha, edgecolors = 'k')\n",
    "    ax.scatter(agents['x'][ agents['health'] == 1 ], agents['y'][ agents['health'] == 1 ], s = agent_size\\\n",
    "               , marker='o', color='goldenrod', alpha = alpha, edgecolors = 'k')\n",
    "    \n",
    "    ax.scatter(destination_history[t][0], destination_history[t][1] \\\n",
    "               , s = 80, marker='d', color='darkolivegreen', alpha = alpha, edgecolors = 'k')\n",
    "    #print(destination_history[t])\n",
    "    #ax.plot(agents['x'][ agents['health'] == 1 ], agents['y'][ agents['health'] == 1 ], 'o', color = 'tab:green', alpha = alpha, markersize=4)\n",
    "    \n",
    "    #disease_timeline[t] = N - get_infetced()\n",
    "\n",
    "\n",
    "    #ax.text(0 , 0.5 , \"$t$ =\"+ str(t) )\n",
    "    if create_legend:\n",
    "        #grid = np.mgrid[0.2:0.8:3j, 0.2:0.8:3j].reshape(2, -1).T\n",
    "        ay.axis('off')\n",
    "        legend_elements = [\n",
    "                       Line2D([0], [0], marker='o', color='w', markeredgecolor='k', label='S',\n",
    "                              markerfacecolor='dodgerblue', markersize=10, alpha = alpha),\n",
    "                              \n",
    "                       Line2D([0], [0], marker='o', color='w', markeredgecolor='k', label='I',\n",
    "                              markerfacecolor='tab:red', markersize=10, alpha = alpha),\n",
    "                              \n",
    "                       Line2D([0], [0], marker='o', color='w', markeredgecolor='k', label='E',\n",
    "                              markerfacecolor='goldenrod', markersize=10, alpha = alpha),\n",
    "\n",
    "                              \n",
    "                       Line2D([0], [0], marker='s', color='w', markeredgecolor=None, label='pollution',\n",
    "                              markerfacecolor=cm.BuPu(0.5), markersize=10, alpha = alpha),\n",
    "                       Line2D([0], [0], marker='d', color='w', markeredgecolor='k', label='target',\n",
    "                              markerfacecolor='darkolivegreen', markersize=10, alpha = alpha),\n",
    "\n",
    "#                        Line2D([0], [0], marker='o', color='w', markeredgecolor='black', label='Middle SES',\n",
    "#                               markerfacecolor='white', markersize=10, alpha = alpha),\n",
    "#                        Line2D([0], [0], marker='^', color='w', markeredgecolor='black', label='High SES',\n",
    "#                               markerfacecolor='white', markersize=10, alpha = alpha),\n",
    "#                        Line2D([0], [0], marker='o', color='w', linewidth = 2, markeredgecolor='green', label='Staying Home',\n",
    "#                               markerfacecolor='white', markersize=14, alpha = alpha, linestyle='dashdot'),\n",
    "#                               Line2D([0], [0], color='k', lw=1.2, label='Active Contact', alpha = alpha * 0.8),                              \n",
    "#                               Line2D([0], [0], color='k', lw=1, label='Inactive Contact', linestyle='--', alpha = alpha * 0.5),\n",
    "                              \n",
    "                       #Patch(facecolor='white', linewidth = 2, edgecolor='r', linestyle ='solid',\n",
    "                         #label='Color Patch'),\n",
    "                       #matplotlib.patches.Circle((10, 10), edgecolor='r'),\n",
    "                       #mpatches.Wedge(grid[0], 0.1, 30, 270, ec=\"none\")\n",
    "\n",
    "\n",
    "    ]\n",
    "        ay.legend( handles=legend_elements, loc = 'center')\n"
   ]
  },
  {
   "cell_type": "code",
   "execution_count": 19,
   "metadata": {},
   "outputs": [],
   "source": [
    "t = 50\n",
    "L = 30\n",
    "# np.sqrt( (agents_history[t]['x'] - L/2) ** 2 + (agents_history[t]['y'] - L/2) ** 2).mean()"
   ]
  },
  {
   "cell_type": "markdown",
   "metadata": {},
   "source": [
    "# Save one Figure"
   ]
  },
  {
   "cell_type": "code",
   "execution_count": 20,
   "metadata": {},
   "outputs": [],
   "source": [
    "circle1 = plt.Circle((L/2, L/2), 9.25, fill = 0, color='k', ls = '--')\n",
    "# line1 = plt.Line2d((L/2, L/2), 8, fill = 0, color='k', ls = '--')\n",
    "\n",
    "\n",
    "t = 42\n",
    "animate(t)\n",
    "text = '$\\sigma=' + str( np.round(sigma_1,2) ) + '$'\n",
    "ax.text(1, 28, text, fontsize=13)\n",
    "# ax.add_patch(circle1)\n",
    "\n",
    "fig\n",
    "# ax.text(0, 0, '\\sigma', fontdict=None)\n",
    "fig.savefig('anim' + text + '.png', dpi = 300)"
   ]
  },
  {
   "cell_type": "code",
   "execution_count": 21,
   "metadata": {},
   "outputs": [
    {
     "data": {
      "image/png": "[encoded data removed]",
      "text/plain": [
       "<Figure size 450x360 with 2 Axes>"
      ]
     },
     "execution_count": 21,
     "metadata": {},
     "output_type": "execute_result"
    }
   ],
   "source": [
    "animate(0)\n",
    "fig"
   ]
  },
  {
   "cell_type": "markdown",
   "metadata": {},
   "source": [
    "# Animation"
   ]
  },
  {
   "cell_type": "markdown",
   "metadata": {},
   "source": [
    "Create an animation of the progress of the simulation"
   ]
  },
  {
   "cell_type": "code",
   "execution_count": null,
   "metadata": {},
   "outputs": [],
   "source": [
    "ani = animation.FuncAnimation(fig, animate, save_count = tMax)\n",
    "#ani = animation.FuncAnimation(fig, animate)\n",
    "dpi = 200\n",
    "# file_name = str(time.gmtime()[0:5]) + '.GIF'\n",
    "# ani.save( file_name ,dpi=dpi, writer = 'imagemagick')\n",
    "\n",
    "writer = animation.writers['ffmpeg'](fps = 30)\n",
    "file_name = str(time.gmtime()[0:6]) + '.mp4'\n",
    "ani.save( file_name, dpi=dpi, writer = writer)\n",
    "\n",
    "file_name"
   ]
  },
  {
   "cell_type": "code",
   "execution_count": null,
   "metadata": {},
   "outputs": [],
   "source": []
  }
 ],
 "metadata": {
  "kernelspec": {
   "display_name": "Python 3 (ipykernel)",
   "language": "python",
   "name": "python3"
  },
  "language_info": {
   "codemirror_mode": {
    "name": "ipython",
    "version": 3
   },
   "file_extension": ".py",
   "mimetype": "text/x-python",
   "name": "python",
   "nbconvert_exporter": "python",
   "pygments_lexer": "ipython3",
   "version": "3.10.6"
  }
 },
 "nbformat": 4,
 "nbformat_minor": 4
}
