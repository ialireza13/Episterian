{
 "cells": [
  {
   "cell_type": "code",
   "execution_count": 45,
   "metadata": {},
   "outputs": [],
   "source": [
    "import numpy as np\n",
    "import matplotlib.pyplot as plt"
   ]
  },
  {
   "cell_type": "code",
   "execution_count": 46,
   "metadata": {},
   "outputs": [],
   "source": [
    "N = 4       # number of walkers\n",
    "Lx = 10\n",
    "Ly = 20\n",
    "stepSize = 0.5\n",
    "r = np.zeros((N,2))\n",
    "r[:,0] = np.random.random(N) * Lx\n",
    "r[:,1] = np.random.random(N) * Ly\n",
    "colors = []\n",
    "for i in range(N):\n",
    "    colors.append('#%06X' % np.random.randint(0, 0xFFFFFF))"
   ]
  },
  {
   "cell_type": "code",
   "execution_count": 47,
   "metadata": {},
   "outputs": [],
   "source": [
    "tile_x_num = 10\n",
    "tile_y_num = 20\n",
    "\n",
    "tile_x_size = Lx / tile_x_num\n",
    "tile_y_size = Ly / tile_y_num\n",
    "\n",
    "tile_inds = np.zeros_like( r ,'int')\n",
    "\n",
    "def walk(r):\n",
    "    step = np.random.random(N) * 2.*np.pi\n",
    "    dx = stepSize * np.cos(step)\n",
    "    dy = stepSize * np.sin(step)\n",
    "    r[:,0] += dx\n",
    "    r[:,1] += dy\n",
    "    passedRight = ((r[:,0]+dx) > Lx)\n",
    "    passedLeft = ((r[:,0]+dx) < 0)\n",
    "    passedTop = ((r[:,1]+dy) > Ly)\n",
    "    passedBottom = ((r[:,1]+dy) < 0)\n",
    "    r[passedRight,0] = 2.*Lx - dx[passedRight] - r[passedRight,0]\n",
    "    r[passedLeft,0] = -dx[passedLeft] - r[passedLeft,0]\n",
    "    r[passedTop,1] = 2.*Ly - dy[passedTop] - r[passedTop,1]\n",
    "    r[passedBottom,1] = -dy[passedBottom] - r[passedBottom,1]\n",
    "    #plt.scatter(r[:,0], r[:,1], c=colors, s=1.5)\n",
    "    \n",
    "\n",
    "def update_tile(tile_x_size, tile_y_size, r):\n",
    "    tile_inds[:,0 ] = r[:, 0] / tile_x_size\n",
    "    tile_inds[:,1 ] = r[:, 1] / tile_y_size\n",
    "    #return np.array(  )\n",
    "    "
   ]
  },
  {
   "cell_type": "code",
   "execution_count": 48,
   "metadata": {},
   "outputs": [],
   "source": [
    "update_tile(tile_x_size, tile_y_size,r)"
   ]
  },
  {
   "cell_type": "code",
   "execution_count": 50,
   "metadata": {},
   "outputs": [],
   "source": [
    "tMax = 100\n",
    "step = np.zeros((N,2))\n",
    "for t in range(tMax):\n",
    "    walk(r)\n",
    "    update_tile( tile_x_size, tile_y_size, r)\n",
    "    #plt.scatter(r[:,0], r[:,1], c=colors, s=1.5)\n"
   ]
  },
  {
   "cell_type": "code",
   "execution_count": 51,
   "metadata": {},
   "outputs": [
    {
     "data": {
      "text/plain": [
       "<matplotlib.collections.PathCollection at 0x7f452cd9d3c8>"
      ]
     },
     "execution_count": 51,
     "metadata": {},
     "output_type": "execute_result"
    },
    {
     "data": {
      "image/png": "[encoded data removed]",
      "text/plain": [
       "<Figure size 432x288 with 1 Axes>"
      ]
     },
     "metadata": {
      "needs_background": "light"
     },
     "output_type": "display_data"
    }
   ],
   "source": [
    "plt.scatter(r[:,0], r[:,1], c=colors, s=1.5)"
   ]
  }
 ],
 "metadata": {
  "kernelspec": {
   "display_name": "Python 3",
   "language": "python",
   "name": "python3"
  },
  "language_info": {
   "codemirror_mode": {
    "name": "ipython",
    "version": 3
   },
   "file_extension": ".py",
   "mimetype": "text/x-python",
   "name": "python",
   "nbconvert_exporter": "python",
   "pygments_lexer": "ipython3",
   "version": "3.6.9"
  }
 },
 "nbformat": 4,
 "nbformat_minor": 4
}
